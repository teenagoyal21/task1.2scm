{
 "cells": [
  {
   "cell_type": "code",
   "execution_count": 1,
   "id": "b77e66b4",
   "metadata": {},
   "outputs": [
    {
     "name": "stdout",
     "output_type": "stream",
     "text": [
      "[17, 15, 4]\n",
      "[10, 12, 9]\n",
      "[11, 13, 18]\n"
     ]
    }
   ],
   "source": [
    "#write a program to add two matrix of order n*m\n",
    "#GOOGLE METHOD\n",
    "X = [[12,7,3],\n",
    "    [4,5,6],\n",
    "    [7,8,9]]\n",
    "Y = [[5,8,1],\n",
    "    [6,7,3],\n",
    "    [4,5,9]]\n",
    "result = [[0,0,0],\n",
    "         [0,0,0],\n",
    "         [0,0,0]]\n",
    "for i in range(len(X)):\n",
    "    for j in range(len(X[0])):\n",
    "        result[i][j] = X[i][j] + Y[i][j]\n",
    "for r in result:\n",
    "    print(r)"
   ]
  },
  {
   "cell_type": "code",
   "execution_count": 1,
   "id": "2ea80ad7",
   "metadata": {},
   "outputs": [
    {
     "name": "stdout",
     "output_type": "stream",
     "text": [
      "enter the no. of row we want in list: 2\n",
      "enter number of column in list: 2\n",
      "enter element: 0,0:5\n",
      "enter element: 0,1:4\n",
      "list1 has created: [[5, 4]]\n",
      "enter element: 1,0:8\n",
      "enter element: 1,1:6\n",
      "list1 has created: [[5, 4], [8, 6]]\n",
      "enter the no. of row we want in list: 2\n",
      "enter number of column in list: 2\n",
      "enter element: 0,0:3\n",
      "enter element: 0,1:1\n",
      "list2 has created: [[3, 1]]\n",
      "enter element: 1,0:4\n",
      "enter element: 1,1:8\n",
      "list2 has created: [[3, 1], [4, 8]]\n",
      "[8, 5]\n",
      "[12, 14]\n"
     ]
    }
   ],
   "source": [
    "#write a program to add two matrix of order n*m\n",
    "#by inputing a matrix using 2D array\n",
    "#MY METHOD(MIXED)\n",
    "lst1 = []\n",
    "r = int(input(\"enter the no. of row we want in list: \"))\n",
    "c= int(input(\"enter number of column in list: \"))\n",
    "for i in range(r):\n",
    "    row = []\n",
    "    for j in range(c):\n",
    "        element = int(input(\"enter element: \" + str(i)+ \",\" + str(j) + (\":\")))\n",
    "        row.append(element)\n",
    "    lst1.append(row)\n",
    "    print(\"list1 has created:\", lst1)\n",
    "    \n",
    "list1 = []\n",
    "r = int(input(\"enter the no. of row we want in list: \"))\n",
    "c= int(input(\"enter number of column in list: \"))\n",
    "for i in range(r):\n",
    "    row = []\n",
    "    for j in range(c):\n",
    "        element = int(input(\"enter element: \" + str(i)+ \",\" + str(j) + (\":\")))\n",
    "        row.append(element)\n",
    "    list1.append(row)\n",
    "    print(\"list2 has created:\", list1)\n",
    "    \n",
    "X = lst1\n",
    "Y = list1\n",
    "result = [[0,0],[0,0]]\n",
    "for i in range(len(X)):\n",
    "    for j in range(len(X[0])):\n",
    "        result[i][j] = X[i][j] + Y[i][j]\n",
    "for r in result:\n",
    "    print(r)"
   ]
  },
  {
   "cell_type": "code",
   "execution_count": 12,
   "id": "7e57cc1d",
   "metadata": {},
   "outputs": [
    {
     "name": "stdout",
     "output_type": "stream",
     "text": [
      "2\n",
      "2\n",
      "enter elements:00:6\n",
      "enter elements:01:8\n",
      "first list has created: [[6, 8]]\n",
      "enter elements:10:9\n",
      "enter elements:11:2\n",
      "first list has created: [[6, 8], [9, 2]]\n",
      "enter elements:00:2\n",
      "enter elements:01:3\n",
      "second list has created: [[2, 3]]\n",
      "enter elements:10:6\n",
      "enter elements:11:8\n",
      "second list has created: [[2, 3], [6, 8]]\n",
      "added code is [8, 11]\n",
      "added code is [15, 10]\n"
     ]
    }
   ],
   "source": [
    "#GROUP METHOD\n",
    "#write a program to ADD two matrix of order n*m\n",
    "x=[]\n",
    "r=int(input())\n",
    "c=int(input())\n",
    "for i in range(r):\n",
    "    row=[]\n",
    "    for j in range(c):\n",
    "        element=int(input(\"enter elements:\"+str(i)+str(j)+(\":\")))\n",
    "        row.append(element)\n",
    "    x.append(row)\n",
    "    print(\"first list has created:\", x)\n",
    "\n",
    "y=[]\n",
    "for i in range(r):\n",
    "    row=[]\n",
    "    for j in range(c):\n",
    "        element=int(input(\"enter elements:\"+str(i)+str(j)+(\":\")))\n",
    "        row.append(element)\n",
    "    y.append(row)\n",
    "    print(\"second list has created:\",y)\n",
    "    \n",
    "result=[]\n",
    "for i in range(r):\n",
    "    row=[]\n",
    "    for j in range(c):\n",
    "        row.append(0)\n",
    "    result.append(row)\n",
    "    \n",
    "for n in range(len(x)):\n",
    "    for m in range(len(x[0])):\n",
    "        result[n][m] = x[n][m] + y[n][m]\n",
    "        \n",
    "for r in result:\n",
    "    print(\"added code is\", r)"
   ]
  },
  {
   "cell_type": "code",
   "execution_count": 13,
   "id": "6286fc5f",
   "metadata": {},
   "outputs": [
    {
     "name": "stdout",
     "output_type": "stream",
     "text": [
      "[59, 72, 49]\n",
      "[74, 97, 73]\n",
      "[119, 157, 112]\n"
     ]
    }
   ],
   "source": [
    "#write a program to MULTIPLY two matrices \n",
    "A = [[1,7,3],\n",
    "    [4,5,6],\n",
    "    [7,8,9]]\n",
    "\n",
    "B = [[5,8,1],\n",
    "    [6,7,3],\n",
    "    [4,5,9]]\n",
    "\n",
    "result = [[0,0,0],\n",
    "         [0,0,0],\n",
    "         [0,0,0]]\n",
    "\n",
    "for i in range(len(A)):\n",
    "    for j in range(len(B[0])):\n",
    "        for k in range(len(B)):\n",
    "            result[i][j] += A[i][k]*B[k][j]\n",
    "            \n",
    "for r in result:\n",
    "    print(r)"
   ]
  },
  {
   "cell_type": "code",
   "execution_count": 3,
   "id": "fbd00639",
   "metadata": {},
   "outputs": [
    {
     "name": "stdout",
     "output_type": "stream",
     "text": [
      "sum of 1 row: 6\n",
      "sum of 2 row: 15\n",
      "sum of 3 row: 24\n",
      "sum of 1 column: 6\n",
      "sum of 2 column: 15\n",
      "sum of 3 column: 24\n"
     ]
    }
   ],
   "source": [
    "#find the sum of each row of matrices of size m*n\n",
    "#initialize matrix a\n",
    "a = [[1,2,3],\n",
    "    [4,5,6],\n",
    "    [7,8,9]]\n",
    "rows = len(a)\n",
    "cols = len(a[0])\n",
    "\n",
    "for i in range(0,rows):\n",
    "    sumRow = 0\n",
    "    for j in range(0,cols):\n",
    "        sumRow = sumRow + a[i][j]\n",
    "    print(\"sum of\" , str(i+1) , \"row:\" , str(sumRow))\n",
    "    \n",
    "for i in range(0,rows):\n",
    "    sumCol=0\n",
    "    for j in range(0,cols):\n",
    "        sumCol = sumCol + a[i][j]\n",
    "    print(\"sum of\" , str(i+1) , \"column:\" , str(sumCol))"
   ]
  },
  {
   "cell_type": "code",
   "execution_count": 3,
   "id": "adeec7b8",
   "metadata": {},
   "outputs": [
    {
     "name": "stdout",
     "output_type": "stream",
     "text": [
      "teena\n",
      "aeent\n"
     ]
    }
   ],
   "source": [
    "#write a prgram to input a string from user and your output should be a new string that will interchange last and first element\n",
    "def swap(string):\n",
    "    start = string[0]\n",
    "    end = string[-1]\n",
    "    swapped_string = end + string[1:-1]+start\n",
    "    print(swapped_string)\n",
    "swap(input()) "
   ]
  },
  {
   "cell_type": "code",
   "execution_count": 11,
   "id": "4869b745",
   "metadata": {},
   "outputs": [
    {
     "name": "stdout",
     "output_type": "stream",
     "text": [
      "examination\n",
      "xaminatione\n"
     ]
    }
   ],
   "source": [
    "#write a program that take input from user as string your program should create a new string by shifting one position to left\n",
    "def swap(string):\n",
    "    start = string[0]\n",
    "    swapped_string = string[1:-1] + string[-1] + start\n",
    "    print(swapped_string)\n",
    "swap(input())"
   ]
  },
  {
   "cell_type": "code",
   "execution_count": 14,
   "id": "266be6e0",
   "metadata": {},
   "outputs": [
    {
     "name": "stdout",
     "output_type": "stream",
     "text": [
      "1  2  3  \n",
      "6  0  3  \n",
      "8  5  6  \n"
     ]
    }
   ],
   "source": [
    "#input a matrix---any two rows and columns interchange\n",
    "def interchange1stlast(mat,n,m):\n",
    "    rows=n\n",
    "    for i in range(n):\n",
    "        t=mat[0][i]\n",
    "        mat[0][i]=mat[rows-1][i]\n",
    "        mat[rows-1][i]=t\n",
    "        \n",
    "mat = [[8,5,6],\n",
    "      [6,0,3],\n",
    "      [1,2,3]]\n",
    "n=3\n",
    "m=3\n",
    "interchange1stlast(mat,n,m)\n",
    "\n",
    "for i in range(n):\n",
    "    for j in range(m):\n",
    "        print(mat[i][j],end=\"  \")\n",
    "    print()"
   ]
  }
 ],
 "metadata": {
  "kernelspec": {
   "display_name": "Python 3 (ipykernel)",
   "language": "python",
   "name": "python3"
  },
  "language_info": {
   "codemirror_mode": {
    "name": "ipython",
    "version": 3
   },
   "file_extension": ".py",
   "mimetype": "text/x-python",
   "name": "python",
   "nbconvert_exporter": "python",
   "pygments_lexer": "ipython3",
   "version": "3.9.13"
  }
 },
 "nbformat": 4,
 "nbformat_minor": 5
}
